{
  "cells": [
    {
      "attachments": {},
      "cell_type": "markdown",
      "id": "innocent-university",
      "metadata": {},
      "source": [
        "# Limpieza de bienes raíces\n",
        "\n",
        "Este es un conjunto de datos (dataset) reales que fue descargado usando técnicas de web scraping. La data contiene registros de **Fotocasa**, el cual es uno de los sitios más populares de bienes raíces en España. Por favor no hagas esto (web scraping) a no ser que sea para propósitos académicos.\n",
        "\n",
        "El dataset fue descargado hace algunos años por Henry Navarro y en ningún caso se obtuvo beneficio económico de ello.\n",
        "\n",
        "Contiene miles de datos de casas reales publicadas en la web www.fotocasa.com. Tu objetivo es extraer tanta información como sea posible con el conocimiento que tienes hasta ahora de ciencia de datos, por ejemplo ¿cuál es la casa más cara en todo el dataset?\n",
        "\n",
        "Empecemos precisamente con esa pregunta... ¡Buena suerte!"
      ]
    },
    {
      "attachments": {},
      "cell_type": "markdown",
      "id": "multiple-glass",
      "metadata": {},
      "source": [
        "#### Ejercicio 00. Lee el dataset assets/real_estate.csv e intenta visualizar la tabla (★☆☆)"
      ]
    },
    {
      "cell_type": "code",
      "execution_count": 45,
      "id": "frank-heath",
      "metadata": {},
      "outputs": [
        {
          "data": {
            "text/html": [
              "<div>\n",
              "<style scoped>\n",
              "    .dataframe tbody tr th:only-of-type {\n",
              "        vertical-align: middle;\n",
              "    }\n",
              "\n",
              "    .dataframe tbody tr th {\n",
              "        vertical-align: top;\n",
              "    }\n",
              "\n",
              "    .dataframe thead th {\n",
              "        text-align: right;\n",
              "    }\n",
              "</style>\n",
              "<table border=\"1\" class=\"dataframe\">\n",
              "  <thead>\n",
              "    <tr style=\"text-align: right;\">\n",
              "      <th></th>\n",
              "      <th>Unnamed: 0</th>\n",
              "      <th>id_realEstates</th>\n",
              "      <th>isNew</th>\n",
              "      <th>realEstate_name</th>\n",
              "      <th>phone_realEstate</th>\n",
              "      <th>url_inmueble</th>\n",
              "      <th>rooms</th>\n",
              "      <th>bathrooms</th>\n",
              "      <th>surface</th>\n",
              "      <th>price</th>\n",
              "      <th>date</th>\n",
              "      <th>description</th>\n",
              "      <th>address</th>\n",
              "      <th>country</th>\n",
              "      <th>level1</th>\n",
              "      <th>level2</th>\n",
              "      <th>level3</th>\n",
              "      <th>level4</th>\n",
              "      <th>level5</th>\n",
              "      <th>level6</th>\n",
              "      <th>level7</th>\n",
              "      <th>level8</th>\n",
              "      <th>upperLevel</th>\n",
              "      <th>countryId</th>\n",
              "      <th>level1Id</th>\n",
              "      <th>level2Id</th>\n",
              "      <th>level3Id</th>\n",
              "      <th>level4Id</th>\n",
              "      <th>level5Id</th>\n",
              "      <th>level6Id</th>\n",
              "      <th>level7Id</th>\n",
              "      <th>level8Id</th>\n",
              "      <th>accuracy</th>\n",
              "      <th>latitude</th>\n",
              "      <th>longitude</th>\n",
              "      <th>zipCode</th>\n",
              "      <th>customZone</th>\n",
              "    </tr>\n",
              "  </thead>\n",
              "  <tbody>\n",
              "    <tr>\n",
              "      <th>0</th>\n",
              "      <td>1</td>\n",
              "      <td>153771986</td>\n",
              "      <td>False</td>\n",
              "      <td>ferrari 57 inmobiliaria</td>\n",
              "      <td>912177526.0</td>\n",
              "      <td>https://www.fotocasa.es/es/comprar/vivienda/ma...</td>\n",
              "      <td>3.0</td>\n",
              "      <td>2.0</td>\n",
              "      <td>103.0</td>\n",
              "      <td>195000</td>\n",
              "      <td>2019-12-28T18:27:15.9975027Z</td>\n",
              "      <td>Ponemos a la venta piso de 3 dormitorios con t...</td>\n",
              "      <td>Calle Presidente Felipe Gonzalez, Arganda del Rey</td>\n",
              "      <td>España</td>\n",
              "      <td>Madrid</td>\n",
              "      <td>Madrid</td>\n",
              "      <td>Madrid Sureste - Cuenca Tajuña</td>\n",
              "      <td>Arganda del Rey, Zona de</td>\n",
              "      <td>Arganda del Rey</td>\n",
              "      <td>NaN</td>\n",
              "      <td>Perlita</td>\n",
              "      <td>NaN</td>\n",
              "      <td>Perlita</td>\n",
              "      <td>0</td>\n",
              "      <td>0</td>\n",
              "      <td>0</td>\n",
              "      <td>0</td>\n",
              "      <td>0</td>\n",
              "      <td>0</td>\n",
              "      <td>0</td>\n",
              "      <td>0</td>\n",
              "      <td>0</td>\n",
              "      <td>0</td>\n",
              "      <td>40,2948276786438</td>\n",
              "      <td>-3,44402412135624</td>\n",
              "      <td>NaN</td>\n",
              "      <td>NaN</td>\n",
              "    </tr>\n",
              "    <tr>\n",
              "      <th>1</th>\n",
              "      <td>2</td>\n",
              "      <td>153867863</td>\n",
              "      <td>False</td>\n",
              "      <td>tecnocasa fuenlabrada ferrocarril</td>\n",
              "      <td>916358736.0</td>\n",
              "      <td>https://www.fotocasa.es/es/comprar/vivienda/ma...</td>\n",
              "      <td>3.0</td>\n",
              "      <td>1.0</td>\n",
              "      <td>NaN</td>\n",
              "      <td>89000</td>\n",
              "      <td>2019-12-28T18:27:15.9975027Z</td>\n",
              "      <td>\"\"Agencia inmobiliaria de FUENLABRADA - zona F...</td>\n",
              "      <td>Calle Polvoranca, 6, Fuenlabrada</td>\n",
              "      <td>España</td>\n",
              "      <td>Madrid</td>\n",
              "      <td>Madrid</td>\n",
              "      <td>Zona Sur de Madrid</td>\n",
              "      <td>Fuenlabrada, Zona de</td>\n",
              "      <td>Fuenlabrada</td>\n",
              "      <td>NaN</td>\n",
              "      <td>Centro</td>\n",
              "      <td>NaN</td>\n",
              "      <td>Centro</td>\n",
              "      <td>0</td>\n",
              "      <td>0</td>\n",
              "      <td>0</td>\n",
              "      <td>0</td>\n",
              "      <td>0</td>\n",
              "      <td>0</td>\n",
              "      <td>0</td>\n",
              "      <td>0</td>\n",
              "      <td>0</td>\n",
              "      <td>1</td>\n",
              "      <td>40,28674</td>\n",
              "      <td>-3,79351</td>\n",
              "      <td>NaN</td>\n",
              "      <td>NaN</td>\n",
              "    </tr>\n",
              "    <tr>\n",
              "      <th>2</th>\n",
              "      <td>3</td>\n",
              "      <td>153430440</td>\n",
              "      <td>False</td>\n",
              "      <td>look find boadilla</td>\n",
              "      <td>916350408.0</td>\n",
              "      <td>https://www.fotocasa.es/es/comprar/vivienda/ma...</td>\n",
              "      <td>2.0</td>\n",
              "      <td>2.0</td>\n",
              "      <td>99.0</td>\n",
              "      <td>390000</td>\n",
              "      <td>2019-12-28T18:27:15.9975027Z</td>\n",
              "      <td>Lookandfind Boadilla, vende en exclusiva, piso...</td>\n",
              "      <td>Calle Reyes Católicos, Boadilla del Monte</td>\n",
              "      <td>España</td>\n",
              "      <td>Madrid</td>\n",
              "      <td>Madrid</td>\n",
              "      <td>Zona Noroeste</td>\n",
              "      <td>Boadilla del Monte, Zona de</td>\n",
              "      <td>Boadilla del Monte</td>\n",
              "      <td>NaN</td>\n",
              "      <td>Sector B</td>\n",
              "      <td>NaN</td>\n",
              "      <td>Sector B</td>\n",
              "      <td>0</td>\n",
              "      <td>0</td>\n",
              "      <td>0</td>\n",
              "      <td>0</td>\n",
              "      <td>0</td>\n",
              "      <td>0</td>\n",
              "      <td>0</td>\n",
              "      <td>0</td>\n",
              "      <td>0</td>\n",
              "      <td>0</td>\n",
              "      <td>40,4115646786438</td>\n",
              "      <td>-3,90662252135624</td>\n",
              "      <td>NaN</td>\n",
              "      <td>NaN</td>\n",
              "    </tr>\n",
              "    <tr>\n",
              "      <th>3</th>\n",
              "      <td>4</td>\n",
              "      <td>152776331</td>\n",
              "      <td>False</td>\n",
              "      <td>tecnocasa fuenlabrada ferrocarril</td>\n",
              "      <td>916358736.0</td>\n",
              "      <td>https://www.fotocasa.es/es/comprar/vivienda/ma...</td>\n",
              "      <td>3.0</td>\n",
              "      <td>1.0</td>\n",
              "      <td>86.0</td>\n",
              "      <td>89000</td>\n",
              "      <td>2019-12-28T18:27:15.9975027Z</td>\n",
              "      <td>Agencia inmobiliaria de FUENLABRADA - zona Fue...</td>\n",
              "      <td>Barrio San Andres, Fuenlabrada</td>\n",
              "      <td>España</td>\n",
              "      <td>Madrid</td>\n",
              "      <td>Madrid</td>\n",
              "      <td>Zona Sur de Madrid</td>\n",
              "      <td>Fuenlabrada, Zona de</td>\n",
              "      <td>Fuenlabrada</td>\n",
              "      <td>NaN</td>\n",
              "      <td>Centro</td>\n",
              "      <td>NaN</td>\n",
              "      <td>Centro</td>\n",
              "      <td>0</td>\n",
              "      <td>0</td>\n",
              "      <td>0</td>\n",
              "      <td>0</td>\n",
              "      <td>0</td>\n",
              "      <td>0</td>\n",
              "      <td>0</td>\n",
              "      <td>0</td>\n",
              "      <td>0</td>\n",
              "      <td>0</td>\n",
              "      <td>40,2853785786438</td>\n",
              "      <td>-3,79508142135624</td>\n",
              "      <td>NaN</td>\n",
              "      <td>NaN</td>\n",
              "    </tr>\n",
              "    <tr>\n",
              "      <th>4</th>\n",
              "      <td>5</td>\n",
              "      <td>153180188</td>\n",
              "      <td>False</td>\n",
              "      <td>ferrari 57 inmobiliaria</td>\n",
              "      <td>912177526.0</td>\n",
              "      <td>https://www.fotocasa.es/es/comprar/vivienda/ma...</td>\n",
              "      <td>2.0</td>\n",
              "      <td>2.0</td>\n",
              "      <td>106.0</td>\n",
              "      <td>172000</td>\n",
              "      <td>2019-12-28T18:27:15.9975027Z</td>\n",
              "      <td>PISOS DE OBRA NUEVA DE 2 Y 3 DORMITORIOS. OBRA...</td>\n",
              "      <td>Arganda del Rey</td>\n",
              "      <td>España</td>\n",
              "      <td>Madrid</td>\n",
              "      <td>Madrid</td>\n",
              "      <td>Madrid Sureste - Cuenca Tajuña</td>\n",
              "      <td>Arganda del Rey, Zona de</td>\n",
              "      <td>Arganda del Rey</td>\n",
              "      <td>NaN</td>\n",
              "      <td>Centro</td>\n",
              "      <td>NaN</td>\n",
              "      <td>Centro</td>\n",
              "      <td>0</td>\n",
              "      <td>0</td>\n",
              "      <td>0</td>\n",
              "      <td>0</td>\n",
              "      <td>0</td>\n",
              "      <td>0</td>\n",
              "      <td>0</td>\n",
              "      <td>0</td>\n",
              "      <td>0</td>\n",
              "      <td>0</td>\n",
              "      <td>40,2998774864376</td>\n",
              "      <td>-3,45226301356237</td>\n",
              "      <td>NaN</td>\n",
              "      <td>NaN</td>\n",
              "    </tr>\n",
              "  </tbody>\n",
              "</table>\n",
              "</div>"
            ],
            "text/plain": [
              "   Unnamed: 0  id_realEstates  isNew                    realEstate_name  \\\n",
              "0           1       153771986  False            ferrari 57 inmobiliaria   \n",
              "1           2       153867863  False  tecnocasa fuenlabrada ferrocarril   \n",
              "2           3       153430440  False                 look find boadilla   \n",
              "3           4       152776331  False  tecnocasa fuenlabrada ferrocarril   \n",
              "4           5       153180188  False            ferrari 57 inmobiliaria   \n",
              "\n",
              "   phone_realEstate                                       url_inmueble  rooms  \\\n",
              "0       912177526.0  https://www.fotocasa.es/es/comprar/vivienda/ma...    3.0   \n",
              "1       916358736.0  https://www.fotocasa.es/es/comprar/vivienda/ma...    3.0   \n",
              "2       916350408.0  https://www.fotocasa.es/es/comprar/vivienda/ma...    2.0   \n",
              "3       916358736.0  https://www.fotocasa.es/es/comprar/vivienda/ma...    3.0   \n",
              "4       912177526.0  https://www.fotocasa.es/es/comprar/vivienda/ma...    2.0   \n",
              "\n",
              "   bathrooms  surface   price                          date  \\\n",
              "0        2.0    103.0  195000  2019-12-28T18:27:15.9975027Z   \n",
              "1        1.0      NaN   89000  2019-12-28T18:27:15.9975027Z   \n",
              "2        2.0     99.0  390000  2019-12-28T18:27:15.9975027Z   \n",
              "3        1.0     86.0   89000  2019-12-28T18:27:15.9975027Z   \n",
              "4        2.0    106.0  172000  2019-12-28T18:27:15.9975027Z   \n",
              "\n",
              "                                         description  \\\n",
              "0  Ponemos a la venta piso de 3 dormitorios con t...   \n",
              "1  \"\"Agencia inmobiliaria de FUENLABRADA - zona F...   \n",
              "2  Lookandfind Boadilla, vende en exclusiva, piso...   \n",
              "3  Agencia inmobiliaria de FUENLABRADA - zona Fue...   \n",
              "4  PISOS DE OBRA NUEVA DE 2 Y 3 DORMITORIOS. OBRA...   \n",
              "\n",
              "                                             address country  level1  level2  \\\n",
              "0  Calle Presidente Felipe Gonzalez, Arganda del Rey  España  Madrid  Madrid   \n",
              "1                   Calle Polvoranca, 6, Fuenlabrada  España  Madrid  Madrid   \n",
              "2          Calle Reyes Católicos, Boadilla del Monte  España  Madrid  Madrid   \n",
              "3                     Barrio San Andres, Fuenlabrada  España  Madrid  Madrid   \n",
              "4                                    Arganda del Rey  España  Madrid  Madrid   \n",
              "\n",
              "                           level3                       level4  \\\n",
              "0  Madrid Sureste - Cuenca Tajuña     Arganda del Rey, Zona de   \n",
              "1              Zona Sur de Madrid         Fuenlabrada, Zona de   \n",
              "2                   Zona Noroeste  Boadilla del Monte, Zona de   \n",
              "3              Zona Sur de Madrid         Fuenlabrada, Zona de   \n",
              "4  Madrid Sureste - Cuenca Tajuña     Arganda del Rey, Zona de   \n",
              "\n",
              "               level5 level6    level7 level8 upperLevel  countryId  level1Id  \\\n",
              "0     Arganda del Rey    NaN   Perlita    NaN    Perlita          0         0   \n",
              "1         Fuenlabrada    NaN    Centro    NaN     Centro          0         0   \n",
              "2  Boadilla del Monte    NaN  Sector B    NaN   Sector B          0         0   \n",
              "3         Fuenlabrada    NaN    Centro    NaN     Centro          0         0   \n",
              "4     Arganda del Rey    NaN    Centro    NaN     Centro          0         0   \n",
              "\n",
              "   level2Id  level3Id  level4Id  level5Id  level6Id  level7Id  level8Id  \\\n",
              "0         0         0         0         0         0         0         0   \n",
              "1         0         0         0         0         0         0         0   \n",
              "2         0         0         0         0         0         0         0   \n",
              "3         0         0         0         0         0         0         0   \n",
              "4         0         0         0         0         0         0         0   \n",
              "\n",
              "   accuracy          latitude          longitude  zipCode  customZone  \n",
              "0         0  40,2948276786438  -3,44402412135624      NaN         NaN  \n",
              "1         1          40,28674           -3,79351      NaN         NaN  \n",
              "2         0  40,4115646786438  -3,90662252135624      NaN         NaN  \n",
              "3         0  40,2853785786438  -3,79508142135624      NaN         NaN  \n",
              "4         0  40,2998774864376  -3,45226301356237      NaN         NaN  "
            ]
          },
          "execution_count": 45,
          "metadata": {},
          "output_type": "execute_result"
        }
      ],
      "source": [
        "import pandas as pd\n",
        "import numpy as np\n",
        "import matplotlib.pyplot as plt\n",
        "\n",
        "# Este archivo CSV contiene puntos y comas en lugar de comas como separadores\n",
        "pd.set_option('display.max_columns', None)\n",
        "ds = pd.read_csv('assets/real_estate.csv', sep=';')\n",
        "ds.head()"
      ]
    },
    {
      "attachments": {},
      "cell_type": "markdown",
      "id": "latin-guest",
      "metadata": {},
      "source": [
        "#### Ejercicio 01. ¿Cuál es la casa más cara en todo el dataset? (★☆☆)\n",
        "\n",
        "Imprime la dirección y el precio de la casa seleccionada. Por ejemplo:\n",
        "\n",
        "`La casa con dirección en Calle del Prado, Nº20 es la más cara y su precio es de 5000000 USD`"
      ]
    },
    {
      "cell_type": "code",
      "execution_count": 12,
      "id": "developing-optimum",
      "metadata": {},
      "outputs": [
        {
          "name": "stdout",
          "output_type": "stream",
          "text": [
            "La casa con dirección en Calle El Escorial, es la más cara y su precio es de 8500000 euros.\n"
          ]
        }
      ],
      "source": [
        "precio_max = ds['price'].max()\n",
        "direccion_precio_max = ds.loc[ds['price'].idxmax(), 'address']\n",
        "print(f'La casa con dirección en Calle {direccion_precio_max}, es la más cara y su precio es de {precio} euros.')"
      ]
    },
    {
      "attachments": {},
      "cell_type": "markdown",
      "id": "lesser-cosmetic",
      "metadata": {},
      "source": [
        "#### Ejercicio 02. ¿Cuál es la casa más barata del dataset? (★☆☆)\n",
        "\n",
        "Imprime la dirección y el precio de la casa seleccionada. Por ejemplo:\n",
        "\n",
        "`La casa con dirección en Calle Alcalá, Nº58 es la más barata y su precio es de 12000 USD`"
      ]
    },
    {
      "cell_type": "code",
      "execution_count": 13,
      "id": "lovely-oasis",
      "metadata": {},
      "outputs": [
        {
          "name": "stdout",
          "output_type": "stream",
          "text": [
            "La casa con dirección en Calle Berlin, Coslada, es la más barata y su precio es de 600 euros.\n"
          ]
        }
      ],
      "source": [
        "ds = ds[ds['price'] > 0]\n",
        "precio_min = ds['price'].min()\n",
        "direccion_precio_min = ds.loc[ds['price'].idxmin(), 'address']\n",
        "print(f'La casa con dirección en Calle {direccion_precio_min}, es la más barata y su precio es de {precio_min} euros.')"
      ]
    },
    {
      "attachments": {},
      "cell_type": "markdown",
      "id": "compliant-fellowship",
      "metadata": {},
      "source": [
        "#### Ejercicio 03. ¿Cuál es la casa más grande y la más pequeña del dataset? (★☆☆)\n",
        "\n",
        "Imprime la dirección y el área de las casas seleccionadas. Por ejemplo:\n",
        "\n",
        "`La casa más grande está ubicada en Calle Gran Vía, Nº38 y su superficie es de 5000 metros`\n",
        "\n",
        "`La casa más pequeña está ubicada en Calle Mayor, Nº12 y su superficie es de 200 metros`"
      ]
    },
    {
      "cell_type": "code",
      "execution_count": 15,
      "id": "every-tiffany",
      "metadata": {},
      "outputs": [
        {
          "name": "stdout",
          "output_type": "stream",
          "text": [
            "La casa más grande está ubicada en Sevilla la Nueva, y su superficie es de 249000.0 metros\n",
            "La casa más pequeña está ubicada en Calle Amparo,  Madrid Capital, y su superficie es de 15.0 metros\n"
          ]
        }
      ],
      "source": [
        "superficie_max = ds['surface'].max()\n",
        "direccion_superficie_max = ds.loc[ds['surface'].idxmax(), 'address']\n",
        "print(f'La casa más grande está ubicada en {direccion_superficie_max}, y su superficie es de {superficie_max} metros')\n",
        "\n",
        "superficie_min = ds['surface'].min()\n",
        "direccion_superficie_min = ds.loc[ds['surface'].idxmin(), 'address']\n",
        "print(f'La casa más pequeña está ubicada en {direccion_superficie_min}, y su superficie es de {superficie_min} metros')"
      ]
    },
    {
      "attachments": {},
      "cell_type": "markdown",
      "id": "danish-spirit",
      "metadata": {},
      "source": [
        "#### Ejercicio 04. ¿Cuantas poblaciones (columna level5) contiene el dataset? (★☆☆)\n",
        "\n",
        "Imprime el nombre de las poblaciones separadas por coma. Por ejemplo:\n",
        "\n",
        "`> print(populations)`\n",
        "\n",
        "`population1, population2, population3, ...`"
      ]
    },
    {
      "cell_type": "code",
      "execution_count": 22,
      "id": "exciting-accreditation",
      "metadata": {},
      "outputs": [
        {
          "name": "stdout",
          "output_type": "stream",
          "text": [
            "Las poblaciones del data set son:\n",
            " Madrid Capital, Alcalá de Henares, Las Rozas de Madrid, Móstoles, Getafe, San Sebastián de los Reyes, Boadilla del Monte, Parla, Valdemoro, Alcobendas, Torrejón de Ardoz, Pozuelo de Alarcón, Fuenlabrada, Collado Villalba, Arganda del Rey, Leganés, Alcorcón, Coslada, Villaviciosa de Odón, Pinto, Majadahonda, Aranjuez, Arroyomolinos (Madrid), Rivas-vaciamadrid, Torrelodones, Navalcarnero, Ciempozuelos, El Escorial, Galapagar, Velilla de San Antonio, Moralzarzal, San Lorenzo de El Escorial, Villanueva de la Cañada, Villanueva del Pardillo, San Martín de la Vega, Colmenar Viejo, El Álamo, Villalbilla, Miraflores de la Sierra, Humanes de Madrid, Alpedrete, Valdemorillo, Mejorada del Campo, Torrejón de la Calzada, Paracuellos de Jarama, Guadarrama, San Fernando de Henares, Meco, Camarma de Esteruelas, Tres Cantos, Algete, San Martín de Valdeiglesias, Robledo de Chavela, El Molar (Madrid), Manzanares El Real, Loeches, Brunete, Villa del Prado, Torres de la Alameda, Campo Real, Griñón, Daganzo de Arriba, Cubas de la Sagra, Soto del Real, Hoyo de Manzanares, El Boalo - Cerceda – Mataelpino, Colmenar de Oreja, Tielmes, San Agustín del Guadalix, Pedrezuela, Chinchón, Los Santos de la Humosa, Guadalix de la Sierra, Collado Mediano, Villarejo de Salvanés, Sevilla la Nueva, Pelayos de la Presa, Torrejón de Velasco, Ajalvir, Colmenarejo, Villamantilla, Talamanca de Jarama, Becerril de la Sierra, Quijorna, Serranillos del Valle, Navalagamella, Carabaña, Morata de Tajuña, Pozuelo del Rey, Moraleja de Enmedio, Cenicientos, Valdetorres de Jarama, Fresno de Torote - Serracines, Valdilecha, Valdeavero, Nuevo Baztán, Fuentidueña de Tajo, Ribatejada, Los Molinos, Venturada, Casarrubuelos, Gargantilla del Lozoya, Cercedilla, Valdeolmos-Alalpardo, Cadalso de los Vidrios, Aldea del Fresno, Titulcia, Torrelaguna, Orusco de Tajuña, Fuente El Saz de Jarama, Pezuela de las Torres, Cobeña, Bustarviejo, Valdemaqueda, Belmonte de Tajo, Redueña, Corpa, Fresnedillas de la Oliva, Santa María de la Alameda, Villamanta, Villar del Olmo, Garganta de los Montes, Villavieja del Lozoya, Valdelaguna, Navacerrada, Navas del Rey, Perales de Tajuña, Villanueva de Perales, Santorcaz, El Berrueco, Valdemanco, El Vellón, La Cabrera, Estremera, Cabanillas de la Sierra, Colmenar del Arroyo, Lozoyuela-navas-sieteiglesias, Buitrago del Lozoya, Valdepiélagos, Batres, Chapinería, Horcajo de la Sierra, Anchuelo, Valdaracete, Zarzalejo, Patones, Villamanrique de Tajo, Villaconejos, Valverde de Alcalá, Gascones, Puentes Viejas, Torremocha de Jarama, Robregordo, El Atazar, Madarcos, Braojos, Brea de Tajo, Piñuécar-gandullas, Ambite, Navarredonda, Canencia, Lozoya, Navalafuente, Fresno de Torote, Pinilla del Valle, Rascafría, La Hiruela, Montejo de la Sierra\n"
          ]
        }
      ],
      "source": [
        "contador_poblaciones = ds['level5'].value_counts()\n",
        "poblaciones_repetidas = contador_poblaciones[contador_poblaciones >= 1].index\n",
        "print(f'Las poblaciones del data set son:')\n",
        "print(*poblaciones_repetidas, sep=', ')"
      ]
    },
    {
      "attachments": {},
      "cell_type": "markdown",
      "id": "crazy-blame",
      "metadata": {},
      "source": [
        "#### Ejercicio 05. ¿El dataset contiene valores no admitidos (NAs)? (★☆☆)\n",
        "\n",
        "Imprima un booleano (`True` o `False`) seguido de la fila/columna que contiene el NAs."
      ]
    },
    {
      "cell_type": "code",
      "execution_count": 51,
      "id": "transparent-poetry",
      "metadata": {},
      "outputs": [
        {
          "name": "stdout",
          "output_type": "stream",
          "text": [
            "       Unnamed: 0  id_realEstates  isNew  realEstate_name  phone_realEstate  \\\n",
            "0           False           False  False            False             False   \n",
            "1           False           False  False            False             False   \n",
            "2           False           False  False            False             False   \n",
            "3           False           False  False            False             False   \n",
            "4           False           False  False            False             False   \n",
            "...           ...             ...    ...              ...               ...   \n",
            "15330       False           False  False            False             False   \n",
            "15331       False           False  False            False             False   \n",
            "15332       False           False  False            False             False   \n",
            "15333       False           False  False            False             False   \n",
            "15334       False           False  False            False             False   \n",
            "\n",
            "       url_inmueble  rooms  bathrooms  surface  price   date  description  \\\n",
            "0             False  False      False    False  False  False        False   \n",
            "1             False  False      False     True  False  False        False   \n",
            "2             False  False      False    False  False  False        False   \n",
            "3             False  False      False    False  False  False        False   \n",
            "4             False  False      False    False  False  False        False   \n",
            "...             ...    ...        ...      ...    ...    ...          ...   \n",
            "15330         False  False      False    False  False  False        False   \n",
            "15331         False  False      False    False  False  False        False   \n",
            "15332         False  False      False    False  False  False         True   \n",
            "15333         False  False      False    False  False  False        False   \n",
            "15334         False  False      False    False  False  False        False   \n",
            "\n",
            "       address  country  level1  level2  level3  level4  level5  level6  \\\n",
            "0        False    False   False   False   False   False   False    True   \n",
            "1        False    False   False   False   False   False   False    True   \n",
            "2        False    False   False   False   False   False   False    True   \n",
            "3        False    False   False   False   False   False   False    True   \n",
            "4        False    False   False   False   False   False   False    True   \n",
            "...        ...      ...     ...     ...     ...     ...     ...     ...   \n",
            "15330    False    False   False   False   False    True   False    True   \n",
            "15331    False    False   False   False   False   False   False    True   \n",
            "15332    False    False   False   False   False   False   False    True   \n",
            "15333    False    False   False   False   False   False   False    True   \n",
            "15334    False    False   False   False   False    True   False    True   \n",
            "\n",
            "       level7  level8  upperLevel  countryId  level1Id  level2Id  level3Id  \\\n",
            "0       False    True       False      False     False     False     False   \n",
            "1       False    True       False      False     False     False     False   \n",
            "2       False    True       False      False     False     False     False   \n",
            "3       False    True       False      False     False     False     False   \n",
            "4       False    True       False      False     False     False     False   \n",
            "...       ...     ...         ...        ...       ...       ...       ...   \n",
            "15330   False   False       False      False     False     False     False   \n",
            "15331    True    True       False      False     False     False     False   \n",
            "15332   False    True       False      False     False     False     False   \n",
            "15333    True    True       False      False     False     False     False   \n",
            "15334   False   False       False      False     False     False     False   \n",
            "\n",
            "       level4Id  level5Id  level6Id  level7Id  level8Id  accuracy  latitude  \\\n",
            "0         False     False     False     False     False     False     False   \n",
            "1         False     False     False     False     False     False     False   \n",
            "2         False     False     False     False     False     False     False   \n",
            "3         False     False     False     False     False     False     False   \n",
            "4         False     False     False     False     False     False     False   \n",
            "...         ...       ...       ...       ...       ...       ...       ...   \n",
            "15330     False     False     False     False     False     False     False   \n",
            "15331     False     False     False     False     False     False     False   \n",
            "15332     False     False     False     False     False     False     False   \n",
            "15333     False     False     False     False     False     False     False   \n",
            "15334     False     False     False     False     False     False     False   \n",
            "\n",
            "       longitude  zipCode  customZone  \n",
            "0          False     True        True  \n",
            "1          False     True        True  \n",
            "2          False     True        True  \n",
            "3          False     True        True  \n",
            "4          False     True        True  \n",
            "...          ...      ...         ...  \n",
            "15330      False     True        True  \n",
            "15331      False     True        True  \n",
            "15332      False     True        True  \n",
            "15333      False     True        True  \n",
            "15334      False     True        True  \n",
            "\n",
            "[15335 rows x 37 columns]\n"
          ]
        }
      ],
      "source": [
        "valores_nas = ds.isna()\n",
        "print(valores_nas)\n",
        "\n",
        "# Print(ds.isna().any())  Utilizaia esto para mostrar solo una serie con los boleanos por columna."
      ]
    },
    {
      "attachments": {},
      "cell_type": "markdown",
      "id": "italic-hydrogen",
      "metadata": {},
      "source": [
        "#### Ejercicio 06. Elimina los NAs del dataset, si aplica (★★☆)\n",
        "\n",
        "Imprima una comparación entre las dimensiones del DataFrame original versus el DataFrame después de las eliminaciones.\n"
      ]
    },
    {
      "cell_type": "code",
      "execution_count": 36,
      "id": "administrative-roads",
      "metadata": {},
      "outputs": [
        {
          "name": "stdout",
          "output_type": "stream",
          "text": [
            "Medidas con valores NAs modificados y cambiados por valores 0: (15275, 37)\n",
            "Medidas con valores NAs eliminados por metodo dropna: (0, 37)\n",
            "Medidas originales del data set: (15275, 37)\n",
            "Al aparecer valores NAs en todas las filas del dataset se me ocurre cambiarlos por valores 0 para poder seguir\n",
            "trabajando con el y no eliminar todas las filas del mismo.\n"
          ]
        }
      ],
      "source": [
        "print(f'Medidas con valores NAs modificados y cambiados por valores 0: {ds.fillna(0).shape}')\n",
        "print(f'Medidas con valores NAs eliminados por metodo dropna: {ds.dropna().shape}')\n",
        "print(f'Medidas originales del data set: {ds.shape}')\n",
        "print(f'''Al aparecer valores NAs en todas las filas del dataset se me ocurre cambiarlos por valores 0 para poder seguir\n",
        "trabajando con el y no eliminar todas las filas del mismo.''')"
      ]
    },
    {
      "attachments": {},
      "cell_type": "markdown",
      "id": "middle-china",
      "metadata": {},
      "source": [
        "#### Ejercicio 07. ¿Cuál la media de precios en la población (columna level5) de \"Arroyomolinos (Madrid)\"? (★★☆)\n",
        "\n",
        "Imprima el valor obtenido."
      ]
    },
    {
      "cell_type": "code",
      "execution_count": 37,
      "id": "nuclear-belief",
      "metadata": {},
      "outputs": [
        {
          "name": "stdout",
          "output_type": "stream",
          "text": [
            "La media de precios en la población de Aroyomolinos es de 298905.18 euros.\n"
          ]
        }
      ],
      "source": [
        "indice_arroyo = ds[ds['level5'] == 'Arroyomolinos (Madrid)'].index\n",
        "media_precios_arroyo = round(ds.loc[indice_arroyo, \"price\"].mean(), 2)\n",
        "print(f'La media de precios en la población de Aroyomolinos es de {media_precios_arroyo} euros.')"
      ]
    },
    {
      "attachments": {},
      "cell_type": "markdown",
      "id": "concerned-radical",
      "metadata": {},
      "source": [
        "#### Ejercicio 08. Trazar el histograma de los precios para la población (level5 column) de \"Arroyomolinos (Madrid)\" y explica qué observas (★★☆)\n",
        "\n",
        "Imprime el histograma de los precios y escribe en la celda del Markdown un breve análisis del trazado.\n"
      ]
    },
    {
      "cell_type": "code",
      "execution_count": 44,
      "id": "sudden-message",
      "metadata": {},
      "outputs": [
        {
          "data": {
            "image/png": "[encoded data removed]",
            "text/plain": [
              "<Figure size 1000x500 with 1 Axes>"
            ]
          },
          "metadata": {},
          "output_type": "display_data"
        }
      ],
      "source": [
        "indice_arroyo = ds[ds['level5'] == 'Arroyomolinos (Madrid)'].index\n",
        "precios_arroyo = ds.loc[indice_arroyo, \"price\"]\n",
        "precios_arroyo = precios_arroyo[precios_arroyo > 0].dropna()\n",
        "\n",
        "plt.figure(figsize = (10, 5))\n",
        "plt.hist(precios_arroyo, bins = 30, alpha = 0.7)\n",
        "plt.title(\"Histograma de precios de Arroyomolinos\")\n",
        "plt.show()"
      ]
    },
    {
      "attachments": {},
      "cell_type": "markdown",
      "id": "impressed-combination",
      "metadata": {},
      "source": [
        "En el siguiente histograma, posdemos obserbar como los precios de la localidad de Arroyomolinos (Madrid), oxilan mayoritariamente entre los 150.000 euros y los 450.000 euros aproximadamente, y minoritariamente, crecen en algunos casos hasta alcanzar cifras que se aproximan hasta los 600.000 eruos."
      ]
    },
    {
      "attachments": {},
      "cell_type": "markdown",
      "id": "actual-edinburgh",
      "metadata": {},
      "source": [
        "#### Ejercicio 09. ¿Son los precios promedios de \"Valdemorillo\" y \"Galapagar\" los mismos? (★★☆)\n",
        "\n",
        "Imprime ambos promedios y escribe una conclusión sobre ellos."
      ]
    },
    {
      "cell_type": "code",
      "execution_count": 67,
      "id": "numeric-commerce",
      "metadata": {},
      "outputs": [
        {
          "name": "stdout",
          "output_type": "stream",
          "text": [
            "Precio promedio Valdemorillo: 363860.29 euros.\n",
            "Precio promedio Galapagar: 360063.20 euros.\n",
            "Como podemos observar los precios promedios de las localidades de Valdemorillo y Galapagar no son identicos, pero se acercan mucho, \n",
            "siendo una diferencia pequeña, de aproximadamente 3800 euros, lo que las separa.\n"
          ]
        }
      ],
      "source": [
        "indice_valde = ds[ds['level5'] == 'Valdemorillo'].index\n",
        "precios_promedio_valde = ds.loc[indice_valde, \"price\"].mean()\n",
        "\n",
        "indice_gala = ds[ds['level5'] == 'Galapagar'].index\n",
        "precios_promedio_gala = ds.loc[indice_gala, \"price\"].mean()\n",
        "\n",
        "print(f'Precio promedio Valdemorillo: {precios_promedio_valde :.2f} euros.')\n",
        "print(f'Precio promedio Galapagar: {precios_promedio_gala :.2f} euros.')\n",
        "print(f'''Como podemos observar los precios promedios de las localidades de Valdemorillo y Galapagar no son identicos, pero se acercan mucho, \n",
        "siendo una diferencia pequeña, de aproximadamente 3800 euros, lo que las separa.''')"
      ]
    },
    {
      "attachments": {},
      "cell_type": "markdown",
      "id": "lonely-article",
      "metadata": {},
      "source": [
        "#### Ejercicio 10. ¿Son los promedios de precio por metro cuadrado (precio/m2) de \"Valdemorillo\" y \"Galapagar\" los mismos? (★★☆)\n",
        "\n",
        "Imprime ambos promedios de precio por metro cuadrado y escribe una conclusión sobre ellos.\n",
        "\n",
        "Pista: Crea una nueva columna llamada `pps` (*price per square* o precio por metro cuadrado) y luego analiza los valores."
      ]
    },
    {
      "cell_type": "code",
      "execution_count": 68,
      "id": "hourly-globe",
      "metadata": {},
      "outputs": [
        {
          "name": "stdout",
          "output_type": "stream",
          "text": [
            "Precio promedio por metro cuadrado Valdemorillo: 1317.95 euros.\n",
            "Precio promedio por metro cuadrado Galapagar: 1606.32 euros.\n",
            "Como podemos observar, al igual que sucede con los precios promediode ambas localidades,  los precios promedios por metro \n",
            "cuadrado de las localidades de Valdemorillo y Galapagar no son identicos, pero se acercan mucho, siendo una diferencia de aproximadamente \n",
            "300 euros, lo que las separa.\n"
          ]
        }
      ],
      "source": [
        "ds['pps'] = ds['price'] / ds['surface']\n",
        "\n",
        "indice_valde = ds[ds['level5'] == 'Valdemorillo'].index\n",
        "precios_promedio_pps_valde = ds.loc[indice_valde, \"pps\"].mean()\n",
        "\n",
        "indice_gala = ds[ds['level5'] == 'Galapagar'].index\n",
        "precios_promedio_pps_gala = ds.loc[indice_gala, \"pps\"].mean()\n",
        "\n",
        "print(f'Precio promedio por metro cuadrado Valdemorillo: {precios_promedio_pps_valde :.2f} euros.')\n",
        "print(f'Precio promedio por metro cuadrado Galapagar: {precios_promedio_pps_gala :.2f} euros.')\n",
        "\n",
        "print(f'''Como podemos observar, al igual que sucede con los precios promediode ambas localidades,  los precios promedios por metro \n",
        "cuadrado de las localidades de Valdemorillo y Galapagar no son identicos, pero se acercan mucho, siendo una diferencia de aproximadamente \n",
        "300 euros, lo que las separa.''')"
      ]
    },
    {
      "attachments": {},
      "cell_type": "markdown",
      "id": "pleasant-invite",
      "metadata": {},
      "source": [
        "#### Ejercicio 11. Analiza la relación entre la superficie y el precio de las casas. (★★☆)\n",
        "\n",
        "Pista: Puedes hacer un `scatter plot` y luego escribir una conclusión al respecto."
      ]
    },
    {
      "cell_type": "code",
      "execution_count": null,
      "id": "common-drilling",
      "metadata": {},
      "outputs": [],
      "source": [
        "# TODO: Código"
      ]
    },
    {
      "attachments": {},
      "cell_type": "markdown",
      "id": "ahead-liquid",
      "metadata": {},
      "source": [
        "**TODO: Markdown**. Para escribir aquí, haz doble clic en esta celda, elimina este contenido y coloca lo que quieras escribir. Luego ejecuta la celda."
      ]
    },
    {
      "attachments": {},
      "cell_type": "markdown",
      "id": "coordinate-sunrise",
      "metadata": {},
      "source": [
        "#### Ejercicio 12. ¿Cuántas agencia de bienes raíces contiene el dataset? (★★☆)\n",
        "\n",
        "Imprime el valor obtenido."
      ]
    },
    {
      "cell_type": "code",
      "execution_count": null,
      "id": "valid-honolulu",
      "metadata": {},
      "outputs": [],
      "source": [
        "# TODO"
      ]
    },
    {
      "attachments": {},
      "cell_type": "markdown",
      "id": "binding-ebony",
      "metadata": {},
      "source": [
        "#### Ejercicio 13. ¿Cuál es la población (columna level5) que contiene la mayor cantidad de casas?(★★☆)\n",
        "\n",
        "Imprima la población y el número de casas."
      ]
    },
    {
      "cell_type": "code",
      "execution_count": null,
      "id": "static-perry",
      "metadata": {},
      "outputs": [],
      "source": [
        "# TODO"
      ]
    },
    {
      "attachments": {},
      "cell_type": "markdown",
      "id": "entire-classification",
      "metadata": {},
      "source": [
        "#### Ejercicio 14. Ahora vamos a trabajar con el \"cinturón sur\" de Madrid. Haz un subconjunto del DataFrame original que contenga las siguientes poblaciones (columna level5): \"Fuenlabrada\", \"Leganés\", \"Getafe\", \"Alcorcón\" (★★☆)\n",
        "\n",
        "Pista: Filtra el DataFrame original usando la columna `level5` y la función `isin`."
      ]
    },
    {
      "cell_type": "code",
      "execution_count": null,
      "id": "binary-input",
      "metadata": {},
      "outputs": [],
      "source": [
        "# TODO"
      ]
    },
    {
      "attachments": {},
      "cell_type": "markdown",
      "id": "severe-fisher",
      "metadata": {},
      "source": [
        "#### Ejercicio 15. Traza un gráfico de barras de la mediana de los precios y explica lo que observas (debes usar el subconjunto obtenido del Ejercicio 14) (★★★)\n",
        "\n",
        "Imprima un gráfico de barras de la mediana de precios y escriba en la celda Markdown un breve análisis sobre el gráfico."
      ]
    },
    {
      "cell_type": "code",
      "execution_count": null,
      "id": "lyric-bunch",
      "metadata": {},
      "outputs": [],
      "source": [
        "# TODO: Code"
      ]
    },
    {
      "attachments": {},
      "cell_type": "markdown",
      "id": "sublime-newspaper",
      "metadata": {},
      "source": [
        "**TODO: Markdown**. Para escribir aquí, haz doble clic en esta celda, elimina este contenido y coloca lo que quieras escribir. Luego ejecuta la celda."
      ]
    },
    {
      "attachments": {},
      "cell_type": "markdown",
      "id": "speaking-diamond",
      "metadata": {},
      "source": [
        "#### Ejercicio 16. Calcula la media y la varianza de muestra para las siguientes variables: precio, habitaciones, superficie y baños (debes usar el subconjunto obtenido del Ejercicio 14) (★★★)\n",
        "\n",
        "Imprime ambos valores por cada variable."
      ]
    },
    {
      "cell_type": "code",
      "execution_count": null,
      "id": "random-feeling",
      "metadata": {},
      "outputs": [],
      "source": [
        "# TODO"
      ]
    },
    {
      "attachments": {},
      "cell_type": "markdown",
      "id": "revolutionary-matrix",
      "metadata": {},
      "source": [
        "#### Ejercicio 17. ¿Cuál es la casa más cara de cada población? Debes usar el subset obtenido en la pregunta 14 (★★☆)\n",
        "\n",
        "Imprime tanto la dirección como el precio de la casa seleccionada de cada población. Puedes imprimir un DataFrame o una sola línea para cada población."
      ]
    },
    {
      "cell_type": "code",
      "execution_count": null,
      "id": "fifteen-browse",
      "metadata": {},
      "outputs": [],
      "source": [
        "# TODO"
      ]
    },
    {
      "attachments": {},
      "cell_type": "markdown",
      "id": "activated-knight",
      "metadata": {},
      "source": [
        "#### Ejercicio 18. Normaliza la variable de precios para cada población y traza los 4 histogramas en el mismo gráfico (debes usar el subconjunto obtenido en la pregunta 14) (★★★)\n",
        "\n",
        "Para el método de normalización, puedes usar el que consideres adecuado, no hay una única respuesta correcta para esta pregunta. Imprime el gráfico y escribe en la celda de Markdown un breve análisis sobre el gráfico.\n",
        "\n",
        "Pista: Puedes ayudarte revisando la demostración multihist de Matplotlib."
      ]
    },
    {
      "cell_type": "code",
      "execution_count": null,
      "id": "civic-meditation",
      "metadata": {},
      "outputs": [],
      "source": [
        "# TODO"
      ]
    },
    {
      "attachments": {},
      "cell_type": "markdown",
      "id": "precise-heavy",
      "metadata": {},
      "source": [
        "**TODO: Markdown**. Para escribir aquí, haz doble clic en esta celda, elimina este contenido y coloca lo que quieras escribir. Luego ejecuta la celda."
      ]
    },
    {
      "attachments": {},
      "cell_type": "markdown",
      "id": "patent-jonathan",
      "metadata": {},
      "source": [
        "#### Ejercicio 19. ¿Qué puedes decir sobre el precio por metro cuadrado (precio/m2) entre los municipios de 'Getafe' y 'Alcorcón'? Debes usar el subconjunto obtenido en la pregunta 14 (★★☆)\n",
        "\n",
        "Pista: Crea una nueva columna llamada `pps` (price per square en inglés) y luego analiza los valores"
      ]
    },
    {
      "cell_type": "code",
      "execution_count": null,
      "id": "initial-liverpool",
      "metadata": {},
      "outputs": [],
      "source": [
        "# TODO"
      ]
    },
    {
      "attachments": {},
      "cell_type": "markdown",
      "id": "enhanced-moscow",
      "metadata": {},
      "source": [
        "#### Ejercicio 20. Realiza el mismo gráfico para 4 poblaciones diferentes (columna level5) y colócalos en el mismo gráfico. Debes usar el subconjunto obtenido en la pregunta 14 (★★☆) \n",
        "Pista: Haz un diagrama de dispersión de cada población usando subgráficos (subplots)."
      ]
    },
    {
      "cell_type": "code",
      "execution_count": null,
      "id": "accepting-airfare",
      "metadata": {},
      "outputs": [],
      "source": [
        "# TODO"
      ]
    },
    {
      "attachments": {},
      "cell_type": "markdown",
      "id": "blocked-effects",
      "metadata": {},
      "source": [
        "#### Ejercicio 21. Realiza un trazado de las coordenadas (columnas latitud y longitud) del cinturón sur de Madrid por color de cada población (debes usar el subconjunto obtenido del Ejercicio 14) (★★★★)\n",
        "\n",
        "Ejecuta la siguiente celda y luego comienza a codear en la siguiente. Debes implementar un código simple que transforme las columnas de coordenadas en un diccionario de Python (agrega más información si es necesario) y agrégala al mapa."
      ]
    },
    {
      "cell_type": "code",
      "execution_count": null,
      "id": "headed-privacy",
      "metadata": {},
      "outputs": [],
      "source": [
        "from ipyleaflet import Map, basemaps\n",
        "\n",
        "# Mapa centrado en (60 grados latitud y -2.2 grados longitud)\n",
        "# Latitud, longitud\n",
        "map = Map(center = (60, -2.2), zoom = 2, min_zoom = 1, max_zoom = 20, \n",
        "    basemap=basemaps.Stamen.Terrain)\n",
        "map"
      ]
    },
    {
      "cell_type": "code",
      "execution_count": null,
      "id": "present-mistress",
      "metadata": {},
      "outputs": [],
      "source": [
        "## Aquí: traza la coordenadas de los estados\n",
        "\n",
        "## PON TU CÓDIGO AQUÍ:\n"
      ]
    }
  ],
  "metadata": {
    "kernelspec": {
      "display_name": "Python 3",
      "language": "python",
      "name": "python3"
    },
    "language_info": {
      "codemirror_mode": {
        "name": "ipython",
        "version": 3
      },
      "file_extension": ".py",
      "mimetype": "text/x-python",
      "name": "python",
      "nbconvert_exporter": "python",
      "pygments_lexer": "ipython3",
      "version": "3.13.1"
    }
  },
  "nbformat": 4,
  "nbformat_minor": 5
}
